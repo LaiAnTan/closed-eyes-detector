{
 "cells": [
  {
   "cell_type": "code",
   "execution_count": null,
   "metadata": {},
   "outputs": [],
   "source": []
  },
  {
   "cell_type": "markdown",
   "metadata": {},
   "source": [
    "Import libraries"
   ]
  },
  {
   "cell_type": "code",
   "execution_count": 6,
   "metadata": {},
   "outputs": [],
   "source": [
    "import cv2\n",
    "import dlib\n",
    "import numpy as np"
   ]
  },
  {
   "cell_type": "markdown",
   "metadata": {},
   "source": [
    "Define class"
   ]
  },
  {
   "cell_type": "code",
   "execution_count": 7,
   "metadata": {},
   "outputs": [],
   "source": [
    "class ClosedEyesDetector:\n",
    "    \n",
    "    def __init__(self):\n",
    "        \n",
    "        self.landmarks = None\n",
    "        self.left_eye = None\n",
    "        self.right_eye = None\n",
    "        \n",
    "        # eye aspect ratio\n",
    "        self.left_EAR = None\n",
    "        self.right_EAR = None\n",
    "        \n",
    "        \n",
    "    def update_eye(self, landmarks):\n",
    "        \n",
    "        self.landmarks = landmarks\n",
    "        \n",
    "        # The landmarks for the left eye are 36-41\n",
    "        self.left_eye = np.array([(landmarks.part(n).x, landmarks.part(n).y) for n in range(36, 42)], np.int32)\n",
    "        # The landmarks for the right eye are 42-47\n",
    "        self.right_eye = np.array([(landmarks.part(n).x, landmarks.part(n).y) for n in range(42, 48)], np.int32)\n",
    "        \n",
    "        self.left_EAR = self._calculate_eye_aspect_ratio(self.left_eye)\n",
    "        self.right_EAR = self._calculate_eye_aspect_ratio(self.right_eye)\n",
    "    \n",
    "    def is_closed(self):\n",
    "        return True if self.left_EAR < 0.2 or self.right_EAR < 0.2 else False\n",
    "    \n",
    "    def _calculate_eye_aspect_ratio(self, eye):\n",
    "        # compute the euclidean distances between the two sets of\n",
    "        # vertical eye landmarks (x, y)-coordinates\n",
    "        A = np.linalg.norm(eye[1] - eye[5])\n",
    "        B = np.linalg.norm(eye[2] - eye[4])\n",
    "\n",
    "        # compute the euclidean distance between the horizontal\n",
    "        # eye landmark (x, y)-coordinates\n",
    "        C = np.linalg.norm(eye[0] - eye[3])\n",
    "\n",
    "        # compute the eye aspect ratio\n",
    "        ear = (A + B) / (2.0 * C)\n",
    "\n",
    "        return ear"
   ]
  },
  {
   "cell_type": "markdown",
   "metadata": {},
   "source": [
    "Run Script"
   ]
  },
  {
   "cell_type": "code",
   "execution_count": 8,
   "metadata": {},
   "outputs": [],
   "source": [
    "# use dlib pre-trained face detection\n",
    "detector = dlib.get_frontal_face_detector()\n",
    "\n",
    "predictor = dlib.shape_predictor(\"shape_predictor_68_face_landmarks.dat\")\n",
    "\n",
    "cap = cv2.VideoCapture(0)\n",
    "\n",
    "closed_eye_detector = ClosedEyesDetector()\n",
    "\n",
    "while True:\n",
    "    _, frame = cap.read()\n",
    "    gray = cv2.cvtColor(frame, cv2.COLOR_BGR2GRAY)\n",
    "\n",
    "    faces = detector(gray)\n",
    "    for face in faces:\n",
    "\n",
    "        landmarks = predictor(gray, face)\n",
    "        \n",
    "        closed_eye_detector.update_eye(landmarks)\n",
    "\n",
    "        cv2.polylines(frame, [closed_eye_detector.left_eye], True, (0, 255, 0), 1)\n",
    "        cv2.polylines(frame, [closed_eye_detector.right_eye], True, (0, 255, 0), 1)\n",
    "        \n",
    "        if closed_eye_detector.is_closed():\n",
    "            cv2.putText(frame, \"Eyes closed\", (10, 30), cv2.FONT_HERSHEY_SIMPLEX, 0.7, (0, 0, 255), 2)\n",
    "\n",
    "    cv2.imshow(\"Frame\", frame)\n",
    "\n",
    "    # escape to quit\n",
    "    key = cv2.waitKey(1)\n",
    "    if key == 27:\n",
    "        break\n",
    "\n",
    "cap.release()\n",
    "cv2.destroyAllWindows()"
   ]
  }
 ],
 "metadata": {
  "kernelspec": {
   "display_name": "base",
   "language": "python",
   "name": "python3"
  },
  "language_info": {
   "codemirror_mode": {
    "name": "ipython",
    "version": 3
   },
   "file_extension": ".py",
   "mimetype": "text/x-python",
   "name": "python",
   "nbconvert_exporter": "python",
   "pygments_lexer": "ipython3",
   "version": "3.12.2"
  }
 },
 "nbformat": 4,
 "nbformat_minor": 2
}
